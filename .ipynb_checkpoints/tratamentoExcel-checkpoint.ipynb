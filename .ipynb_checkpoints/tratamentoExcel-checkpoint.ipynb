{
 "cells": [
  {
   "cell_type": "markdown",
   "id": "185b433a-1d77-48e5-a974-cb8e0eaa81e6",
   "metadata": {},
   "source": [
    "\n",
    "FILTRO DE PROCESSOS DUPLICADOS.\n",
    "\n",
    "Lê toda a tabela e exclui os itens mais antigos usando uma coluna de referência (neste exemplo usando a coluna \"Data Digitação\" como referência).\n"
   ]
  },
  {
   "cell_type": "code",
   "execution_count": 2,
   "id": "c25e76d0-1880-4a7c-a3c5-df763d327415",
   "metadata": {},
   "outputs": [
    {
     "name": "stdout",
     "output_type": "stream",
     "text": [
      "Arquivo salvo como C:/Users/maced/Documents/AGU/TesteTabelas/numeroProcessoFormatadoData.xlsx\n"
     ]
    }
   ],
   "source": [
    "import pandas as pd\n",
    "\n",
    "# Carregar o arquivo Excel\n",
    "arquivo_entrada = 'caminho do arquivo + nomeArquivo.xlsx' # Nome do arquivo de entrada\n",
    "df = pd.read_excel(arquivo_entrada)\n",
    "\n",
    "# Identificar as colunas relevantes\n",
    "coluna_numero_processo = 'Numero do Processo'\n",
    "coluna_referencia = 'Data Digitação'\n",
    "\n",
    "# Converter a coluna de datas para o tipo datetime\n",
    "df[coluna_referencia] = pd.to_datetime(df[coluna_referencia], errors='coerce')\n",
    "\n",
    "# Remover duplicatas, mantendo a entrada com a data mais recente\n",
    "df = df.sort_values(by=coluna_referencia).drop_duplicates(subset=[coluna_numero_processo], keep='last') \n",
    "\n",
    "# Salvar o arquivo Excel com um novo nome\n",
    "arquivo_saida = 'caminho de onde salvar o arquivo + novoNomeArquivo.xlsx' # Nome do arquivo de saída\n",
    "df.to_excel(arquivo_saida, index=False)\n",
    "\n",
    "print(f\"Arquivo salvo como {arquivo_saida}\")\n"
   ]
  },
  {
   "cell_type": "raw",
   "id": "d2eab8b0-91b5-4e86-9ea6-fc935e7ccf6a",
   "metadata": {},
   "source": [
    "\n",
    "\n",
    "Se necessário mudar a exclusão para o mais antigo, mudar o \"keep='last'\" para \"keep='first'\"\n",
    "\n"
   ]
  },
  {
   "cell_type": "markdown",
   "id": "e2d95b2e-02fa-4871-bf81-00bd18ce5c3d",
   "metadata": {},
   "source": [
    "\n",
    "FILTRO DE PROCESSOS DUPLICADOS.\n",
    "\n",
    "Verifica a quantidade de ocorrências de um Número de Processo (na própria coluna \"Numero do Processo\"), usando como base o input passado pelo usuário.\n"
   ]
  },
  {
   "cell_type": "code",
   "execution_count": null,
   "id": "f1467bfb-d357-447d-8bb2-8167dcc46c8b",
   "metadata": {
    "scrolled": true
   },
   "outputs": [
    {
     "name": "stdin",
     "output_type": "stream",
     "text": [
      "Digite o número do processo:  00008800220074014100\n"
     ]
    }
   ],
   "source": [
    "import pandas as pd\n",
    "\n",
    "# Função para verificar a ocorrência de um número na coluna \"Numero do Processo\" de um arquivo Excel\n",
    "def verificar_numero_no_excel(caminho_arquivo, numero_processo):\n",
    "    # Ler o arquivo Excel\n",
    "    df = pd.read_excel(caminho_arquivo, engine='openpyxl')\n",
    "\n",
    "    # Verificar se a coluna \"Numero do Processo\" existe\n",
    "    if 'Numero do Processo' not in df.columns:\n",
    "        raise ValueError(\"A coluna 'Numero do Processo' não foi encontrada no arquivo Excel.\")\n",
    "\n",
    "    # Converter a coluna \"Numero do Processo\" para strings para garantir comparações corretas\n",
    "    df['Numero do Processo'] = df['Numero do Processo'].astype(str)\n",
    "\n",
    "    # Contar as ocorrências do número do processo na coluna\n",
    "    ocorrencias = df['Numero do Processo'].eq(numero_processo).sum()\n",
    "\n",
    "    return ocorrencias\n",
    "\n",
    "# Input do usuário\n",
    "numero_processo_input = input(\"Digite o número do processo: \")\n",
    "\n",
    "# Caminho para o arquivo Excel\n",
    "caminho_arquivo_excel = 'caminho do arquivo + nomeArquivo.xlsx' # Nome do arquivo de entrada\n",
    "\n",
    "# Verificação\n",
    "try:\n",
    "    ocorrencias = verificar_numero_no_excel(caminho_arquivo_excel, numero_processo_input)\n",
    "    if ocorrencias > 0:\n",
    "        print(f\"O número do processo {numero_processo_input} está presente na tabela.\")\n",
    "        if ocorrencias > 1:\n",
    "            print(f\"O número do processo {numero_processo_input} é repetido {ocorrencias} vezes na tabela.\")\n",
    "        else:\n",
    "            print(f\"O número do processo {numero_processo_input} não é repetido na tabela.\")\n",
    "    else:\n",
    "        print(f\"O número do processo {numero_processo_input} não foi encontrado na tabela.\")\n",
    "except Exception as e:\n",
    "    print(f\"Ocorreu um erro: {e}\")\n"
   ]
  },
  {
   "cell_type": "raw",
   "id": "fffaa03b-e236-43f1-b543-bac9ce28f56e",
   "metadata": {},
   "source": []
  },
  {
   "cell_type": "markdown",
   "id": "3279a313-3de8-4026-b959-0c33e2e23219",
   "metadata": {},
   "source": [
    "\n",
    "FORMATAÇÃO DO NUMERO DO PROCESSO.\n",
    "\n",
    "Retira todos os caracteres especiais e espaços e limita o número a 20 caracteres. Caso o Número tenha menos de 20 caracteres, coloca-se zeros a esquerda para completar.\n"
   ]
  },
  {
   "cell_type": "code",
   "execution_count": 1,
   "id": "a7b29162-1b07-443b-b6a9-04a84d3540b0",
   "metadata": {},
   "outputs": [],
   "source": [
    "import pandas as pd\n",
    "import re\n",
    "\n",
    "def formatar_numero_processo(numero):\n",
    "    # Remove todos os caracteres não numéricos\n",
    "    numero_formatado = re.sub(r'\\D', '', str(numero))\n",
    "    # Limita o número de caracteres a 20\n",
    "    numero_formatado = numero_formatado[:20] \n",
    "    # Adiciona zeros à esquerda até que tenha 20 caracteres\n",
    "    numero_formatado = numero_formatado.zfill(20)\n",
    "    return numero_formatado\n",
    "\n",
    "def le_arquivo_excel(arquivo_entrada, arquivo_saida):\n",
    "    # Lê o arquivo Excel\n",
    "    df = pd.read_excel(arquivo_entrada)\n",
    "\n",
    "    # Verifica se a coluna \"Numero do Processo\" existe\n",
    "    if 'Numero do Processo' not in df.columns:\n",
    "        raise ValueError(\"A coluna 'Numero do Processo' não foi encontrada no arquivo Excel.\")\n",
    "\n",
    "    # Aplica a formatação na coluna \"Numero do Processo\"\n",
    "    df['Numero do Processo'] = df['Numero do Processo'].apply(formatar_numero_processo)\n",
    "\n",
    "    # Salva o DataFrame modificado em um novo arquivo Excel\n",
    "    df.to_excel(arquivo_saida, index=False)\n",
    "\n",
    "# Exemplo de uso\n",
    "arquivo_entrada = 'caminho + o nome do arquivo .xlsx'  # Nome do arquivo de entrada\n",
    "arquivo_saida = 'caminho de onde salvar o arquivo + novoNomeArquivo.xlsx'  # Nome do arquivo de saída\n",
    "le_arquivo_excel(arquivo_entrada, arquivo_saida)\n"
   ]
  },
  {
   "cell_type": "markdown",
   "id": "e88ca062-938a-4eed-9b05-d880fb8a7b45",
   "metadata": {},
   "source": [
    "\n",
    "1 - re.sub(\"pattern\", \"repl\", string) - É uma função da biblioteca  \"re\" que substitui todas as ocorrências do padrão \"pattern\" na string \"string\" pela string \"repl\".\n",
    "\n",
    "2 - re.sub(r'\\D', '', str(numero)) - O prefixo 'r' indica que a string é uma string bruta (raw string), onde caracteres de escape são tratados literalmente. '\\D' é uma expressão regular que corresponde a qualquer caractere que não seja um dígito (equivalente a '[0-9]').\n",
    "\n",
    "3 - \"''\": Este é o valor de substituição na função 're.sub'. Uma string vazia '' significa que qualquer caractere que corresponda ao padrão '\\D' será removido.\n",
    "\n",
    "4 - 'str(numero)' : Esta parte converte o valor de 'numero' para uma string, garantindo que a função 're.sub' possa operar sobre ele, já que a função 're.sub' requer uma string como entrada.\n"
   ]
  },
  {
   "cell_type": "markdown",
   "id": "5f27b596-adb7-4dfe-a6c1-00a31a291bac",
   "metadata": {},
   "source": [
    "\n",
    "1 - 'numero_formatado[:20]': Esta é uma operação de fatiamento (slicing) em Python. O slicing pega uma \"fatia\" da string. A sintaxe básica do slicing é 'variável[início:fim]', onde início é o índice inicial (inclusivo) e fim é o índice final (exclusivo). \n",
    "\n",
    "2 - Então, 'numero_formatado[:20]' significa \"pegue os primeiros 20 caracteres da string armazenada na variável numero_formatado\".\n",
    "\n"
   ]
  },
  {
   "cell_type": "markdown",
   "id": "9174de53-c206-410b-ae62-398f08137396",
   "metadata": {},
   "source": [
    "\n",
    "1 - 'numero_formatado = numero_formatado.zfill(20)' - Essa linha está utilizando o método 'zfill' para formatar uma string numero_formatado, preenchendo-a com zeros à esquerda até que ela tenha exatamente 20 caracteres de comprimento. \n",
    "\n",
    "2 - 'zfill(20)': Este método é usado para preencher a string à esquerda com zeros ('0') até que a string tenha um comprimento total de 20 caracteres. Se a string já tiver 20 ou mais caracteres, o método 'zfill' não faz nenhuma alteração.\n"
   ]
  }
 ],
 "metadata": {
  "kernelspec": {
   "display_name": "Python 3 (ipykernel)",
   "language": "python",
   "name": "python3"
  },
  "language_info": {
   "codemirror_mode": {
    "name": "ipython",
    "version": 3
   },
   "file_extension": ".py",
   "mimetype": "text/x-python",
   "name": "python",
   "nbconvert_exporter": "python",
   "pygments_lexer": "ipython3",
   "version": "3.12.3"
  }
 },
 "nbformat": 4,
 "nbformat_minor": 5
}
