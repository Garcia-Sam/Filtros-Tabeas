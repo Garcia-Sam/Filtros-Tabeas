{
 "cells": [
  {
   "cell_type": "markdown",
   "id": "185b433a-1d77-48e5-a974-cb8e0eaa81e6",
   "metadata": {},
   "source": [
    "Filtro de Processos Duplicados.\n",
    "Lendo toda a tabela e excluindo pela data mais recente (usando a coluna \"Data Digitação\" como referência)."
   ]
  },
  {
   "cell_type": "code",
   "execution_count": 2,
   "id": "c25e76d0-1880-4a7c-a3c5-df763d327415",
   "metadata": {},
   "outputs": [
    {
     "name": "stdout",
     "output_type": "stream",
     "text": [
      "Arquivo salvo como C:/Users/maced/Documents/AGU/TesteTabelas/numeroProcessoFormatadoData.xlsx\n"
     ]
    }
   ],
   "source": [
    "import pandas as pd\n",
    "\n",
    "# Carregar o arquivo Excel\n",
    "arquivo_entrada = 'caminho do arquivo + nomeArquivo.xlsx' # Nome do arquivo de entrada\n",
    "df = pd.read_excel(arquivo_entrada)\n",
    "\n",
    "# Identificar as colunas relevantes\n",
    "coluna_numero_processo = 'Numero do Processo'\n",
    "coluna_data_digitacao = 'Data Digitação'\n",
    "\n",
    "# Converter a coluna de datas para o tipo datetime\n",
    "df[coluna_data_digitacao] = pd.to_datetime(df[coluna_data_digitacao], errors='coerce')\n",
    "\n",
    "# Remover duplicatas, mantendo a entrada com a data mais recente\n",
    "df = df.sort_values(by=coluna_data_digitacao).drop_duplicates(subset=[coluna_numero_processo], keep='last')\n",
    "\n",
    "# Salvar o arquivo Excel com um novo nome\n",
    "arquivo_saida = 'caminho de onde salvar o arquivo + novoNomeArquivo.xlsx' # Nome do arquivo de saída\n",
    "df.to_excel(arquivo_saida, index=False)\n",
    "\n",
    "print(f\"Arquivo salvo como {arquivo_saida}\")\n"
   ]
  },
  {
   "cell_type": "raw",
   "id": "18158b8b-6fa5-4e02-ac31-7e8621c3f6f2",
   "metadata": {},
   "source": []
  },
  {
   "cell_type": "raw",
   "id": "d2eab8b0-91b5-4e86-9ea6-fc935e7ccf6a",
   "metadata": {},
   "source": []
  },
  {
   "cell_type": "markdown",
   "id": "6d3cf699-b96f-44f9-985a-a84d574e543e",
   "metadata": {},
   "source": [
    "Filtro de Processos Duplicados.\n",
    "Lendo o input do usuário."
   ]
  },
  {
   "cell_type": "code",
   "execution_count": null,
   "id": "f1467bfb-d357-447d-8bb2-8167dcc46c8b",
   "metadata": {
    "scrolled": true
   },
   "outputs": [
    {
     "name": "stdin",
     "output_type": "stream",
     "text": [
      "Digite o número do processo:  00008800220074014100\n"
     ]
    }
   ],
   "source": [
    "import pandas as pd\n",
    "\n",
    "# Função para verificar a ocorrência de um número na coluna \"Numero do Processo\" de um arquivo Excel\n",
    "def verificar_numero_no_excel(caminho_arquivo, numero_processo):\n",
    "    # Ler o arquivo Excel\n",
    "    df = pd.read_excel(caminho_arquivo, engine='openpyxl')\n",
    "\n",
    "    # Verificar se a coluna \"Numero do Processo\" existe\n",
    "    if 'Numero do Processo' not in df.columns:\n",
    "        raise ValueError(\"A coluna 'Numero do Processo' não foi encontrada no arquivo Excel.\")\n",
    "\n",
    "    # Converter a coluna \"Numero do Processo\" para strings para garantir comparações corretas\n",
    "    df['Numero do Processo'] = df['Numero do Processo'].astype(str)\n",
    "\n",
    "    # Contar as ocorrências do número do processo na coluna\n",
    "    ocorrencias = df['Numero do Processo'].eq(numero_processo).sum()\n",
    "\n",
    "    return ocorrencias\n",
    "\n",
    "# Input do usuário\n",
    "numero_processo_input = input(\"Digite o número do processo: \")\n",
    "\n",
    "# Caminho para o arquivo Excel\n",
    "caminho_arquivo_excel = 'caminho do arquivo + nomeArquivo.xlsx' # Nome do arquivo de entrada\n",
    "\n",
    "# Verificação\n",
    "try:\n",
    "    ocorrencias = verificar_numero_no_excel(caminho_arquivo_excel, numero_processo_input)\n",
    "    if ocorrencias > 0:\n",
    "        print(f\"O número do processo {numero_processo_input} está presente na tabela.\")\n",
    "        if ocorrencias > 1:\n",
    "            print(f\"O número do processo {numero_processo_input} é repetido {ocorrencias} vezes na tabela.\")\n",
    "        else:\n",
    "            print(f\"O número do processo {numero_processo_input} não é repetido na tabela.\")\n",
    "    else:\n",
    "        print(f\"O número do processo {numero_processo_input} não foi encontrado na tabela.\")\n",
    "except Exception as e:\n",
    "    print(f\"Ocorreu um erro: {e}\")\n"
   ]
  },
  {
   "cell_type": "markdown",
   "id": "b6c3e231-8492-4152-bded-74c85a65086f",
   "metadata": {},
   "source": []
  },
  {
   "cell_type": "markdown",
   "id": "fb6f17be-6c0a-4dbe-aa66-8f8ee030a7f3",
   "metadata": {},
   "source": []
  },
  {
   "cell_type": "markdown",
   "id": "e304de78-ebe3-4e82-a482-63ec0bb55e5e",
   "metadata": {},
   "source": [
    "Formatando o Numero do Processo.\n",
    "Coloca zeros a esquerda, retira todos os caracteres especiais e espeaços e limita os números a 20 caracteres."
   ]
  },
  {
   "cell_type": "code",
   "execution_count": 1,
   "id": "a7b29162-1b07-443b-b6a9-04a84d3540b0",
   "metadata": {},
   "outputs": [],
   "source": [
    "import pandas as pd\n",
    "import re\n",
    "\n",
    "def formatar_numero_processo(numero):\n",
    "    # Remove todos os caracteres não numéricos\n",
    "    numero_formatado = re.sub(r'\\D', '', str(numero))\n",
    "    # Limita o número de caracteres a 20\n",
    "    numero_formatado = numero_formatado[:20]\n",
    "    # Adiciona zeros à esquerda até que tenha 20 caracteres\n",
    "    numero_formatado = numero_formatado.zfill(20)\n",
    "    return numero_formatado\n",
    "\n",
    "def le_arquivo_excel(arquivo_entrada, arquivo_saida):\n",
    "    # Lê o arquivo Excel\n",
    "    df = pd.read_excel(arquivo_entrada)\n",
    "\n",
    "    # Verifica se a coluna \"Numero do Processo\" existe\n",
    "    if 'Numero do Processo' not in df.columns:\n",
    "        raise ValueError(\"A coluna 'Numero do Processo' não foi encontrada no arquivo Excel.\")\n",
    "\n",
    "    # Aplica a formatação na coluna \"Numero do Processo\"\n",
    "    df['Numero do Processo'] = df['Numero do Processo'].apply(formatar_numero_processo)\n",
    "\n",
    "    # Salva o DataFrame modificado em um novo arquivo Excel\n",
    "    df.to_excel(arquivo_saida, index=False)\n",
    "\n",
    "# Exemplo de uso\n",
    "arquivo_entrada = 'caminho + o nome do arquivo .xlsx'  # Nome do arquivo de entrada\n",
    "arquivo_saida = 'caminho de onde salvar o arquivo + novoNomeArquivo.xlsx'  # Nome do arquivo de saída\n",
    "le_arquivo_excel(arquivo_entrada, arquivo_saida)\n"
   ]
  },
  {
   "cell_type": "code",
   "execution_count": null,
   "id": "c15f0d3e-a041-4b3b-b47d-a7cf423d4d74",
   "metadata": {},
   "outputs": [],
   "source": []
  }
 ],
 "metadata": {
  "kernelspec": {
   "display_name": "Python 3 (ipykernel)",
   "language": "python",
   "name": "python3"
  },
  "language_info": {
   "codemirror_mode": {
    "name": "ipython",
    "version": 3
   },
   "file_extension": ".py",
   "mimetype": "text/x-python",
   "name": "python",
   "nbconvert_exporter": "python",
   "pygments_lexer": "ipython3",
   "version": "3.12.3"
  }
 },
 "nbformat": 4,
 "nbformat_minor": 5
}
